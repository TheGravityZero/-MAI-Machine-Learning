{
  "nbformat": 4,
  "nbformat_minor": 0,
  "metadata": {
    "colab": {
      "provenance": []
    },
    "kernelspec": {
      "name": "python3",
      "display_name": "Python 3"
    },
    "language_info": {
      "name": "python"
    }
  },
  "cells": [
    {
      "cell_type": "markdown",
      "source": [
        "# Лабораторная работа №1\n",
        "\n",
        "**Студент:** Гаптулхаков Р.Р.\n",
        "\n",
        "**Группа:** М8О-408Б-19"
      ],
      "metadata": {
        "id": "hRKBFU2SahEB"
      }
    },
    {
      "cell_type": "markdown",
      "source": [
        "Загрузим необходимые библиотеки."
      ],
      "metadata": {
        "id": "k_wCxN1va2Rp"
      }
    },
    {
      "cell_type": "code",
      "source": [
        "import numpy as np\n",
        "import pandas as pd\n",
        "import matplotlib.pyplot as plt"
      ],
      "metadata": {
        "id": "CzdlGPt3a2Xm"
      },
      "execution_count": null,
      "outputs": []
    },
    {
      "cell_type": "markdown",
      "source": [
        "Загрузим предобработанные данные из нулевой лабораторной."
      ],
      "metadata": {
        "id": "ou51ZdkwaqoN"
      }
    },
    {
      "cell_type": "code",
      "execution_count": null,
      "metadata": {
        "id": "hMuZzzaLZRAM"
      },
      "outputs": [],
      "source": [
        "train_df = pd.read_csv(\"train_processed.csv\")\n",
        "test_df = pd.read_csv(\"test_processed.csv\")"
      ]
    },
    {
      "cell_type": "code",
      "source": [
        "train_df.drop(\"Unnamed: 0\", axis=1, inplace=True)\n",
        "test_df.drop(\"Unnamed: 0\", axis=1, inplace=True)\n",
        "None"
      ],
      "metadata": {
        "id": "zDdrOOcBbHwm"
      },
      "execution_count": null,
      "outputs": []
    },
    {
      "cell_type": "code",
      "source": [
        "train_df.head()"
      ],
      "metadata": {
        "colab": {
          "base_uri": "https://localhost:8080/",
          "height": 206
        },
        "id": "-oPUGlDhbKwA",
        "outputId": "6abe31b1-0991-4f08-be6b-c109e101dc39"
      },
      "execution_count": null,
      "outputs": [
        {
          "output_type": "execute_result",
          "data": {
            "text/plain": [
              "   CryoSleep   Age  VIP  RoomService  FoodCourt  ShoppingMall        Spa  \\\n",
              "0          0  39.0    0     0.000000   0.000000      0.000000   0.000000   \n",
              "1          0  24.0    0     0.760801   0.030188      0.106419   2.450018   \n",
              "2          0  58.0    1     0.300133  11.994767      0.000000  29.966976   \n",
              "3          0  33.0    0     0.000000   4.303492      1.579261  14.856301   \n",
              "4          0  16.0    0     2.114888   0.234797      0.642772   2.521421   \n",
              "\n",
              "     VRDeck  encoded_HomePlanet  encoded_Destination  encoded_Transported  \n",
              "0  0.000000                   1                    2                    0  \n",
              "1  0.182323                   0                    2                    1  \n",
              "2  0.203041                   1                    2                    0  \n",
              "3  0.799735                   1                    2                    0  \n",
              "4  0.008287                   0                    2                    1  "
            ],
            "text/html": [
              "\n",
              "  <div id=\"df-06a42cdf-b4eb-45d2-8df4-22075c6fe4bb\">\n",
              "    <div class=\"colab-df-container\">\n",
              "      <div>\n",
              "<style scoped>\n",
              "    .dataframe tbody tr th:only-of-type {\n",
              "        vertical-align: middle;\n",
              "    }\n",
              "\n",
              "    .dataframe tbody tr th {\n",
              "        vertical-align: top;\n",
              "    }\n",
              "\n",
              "    .dataframe thead th {\n",
              "        text-align: right;\n",
              "    }\n",
              "</style>\n",
              "<table border=\"1\" class=\"dataframe\">\n",
              "  <thead>\n",
              "    <tr style=\"text-align: right;\">\n",
              "      <th></th>\n",
              "      <th>CryoSleep</th>\n",
              "      <th>Age</th>\n",
              "      <th>VIP</th>\n",
              "      <th>RoomService</th>\n",
              "      <th>FoodCourt</th>\n",
              "      <th>ShoppingMall</th>\n",
              "      <th>Spa</th>\n",
              "      <th>VRDeck</th>\n",
              "      <th>encoded_HomePlanet</th>\n",
              "      <th>encoded_Destination</th>\n",
              "      <th>encoded_Transported</th>\n",
              "    </tr>\n",
              "  </thead>\n",
              "  <tbody>\n",
              "    <tr>\n",
              "      <th>0</th>\n",
              "      <td>0</td>\n",
              "      <td>39.0</td>\n",
              "      <td>0</td>\n",
              "      <td>0.000000</td>\n",
              "      <td>0.000000</td>\n",
              "      <td>0.000000</td>\n",
              "      <td>0.000000</td>\n",
              "      <td>0.000000</td>\n",
              "      <td>1</td>\n",
              "      <td>2</td>\n",
              "      <td>0</td>\n",
              "    </tr>\n",
              "    <tr>\n",
              "      <th>1</th>\n",
              "      <td>0</td>\n",
              "      <td>24.0</td>\n",
              "      <td>0</td>\n",
              "      <td>0.760801</td>\n",
              "      <td>0.030188</td>\n",
              "      <td>0.106419</td>\n",
              "      <td>2.450018</td>\n",
              "      <td>0.182323</td>\n",
              "      <td>0</td>\n",
              "      <td>2</td>\n",
              "      <td>1</td>\n",
              "    </tr>\n",
              "    <tr>\n",
              "      <th>2</th>\n",
              "      <td>0</td>\n",
              "      <td>58.0</td>\n",
              "      <td>1</td>\n",
              "      <td>0.300133</td>\n",
              "      <td>11.994767</td>\n",
              "      <td>0.000000</td>\n",
              "      <td>29.966976</td>\n",
              "      <td>0.203041</td>\n",
              "      <td>1</td>\n",
              "      <td>2</td>\n",
              "      <td>0</td>\n",
              "    </tr>\n",
              "    <tr>\n",
              "      <th>3</th>\n",
              "      <td>0</td>\n",
              "      <td>33.0</td>\n",
              "      <td>0</td>\n",
              "      <td>0.000000</td>\n",
              "      <td>4.303492</td>\n",
              "      <td>1.579261</td>\n",
              "      <td>14.856301</td>\n",
              "      <td>0.799735</td>\n",
              "      <td>1</td>\n",
              "      <td>2</td>\n",
              "      <td>0</td>\n",
              "    </tr>\n",
              "    <tr>\n",
              "      <th>4</th>\n",
              "      <td>0</td>\n",
              "      <td>16.0</td>\n",
              "      <td>0</td>\n",
              "      <td>2.114888</td>\n",
              "      <td>0.234797</td>\n",
              "      <td>0.642772</td>\n",
              "      <td>2.521421</td>\n",
              "      <td>0.008287</td>\n",
              "      <td>0</td>\n",
              "      <td>2</td>\n",
              "      <td>1</td>\n",
              "    </tr>\n",
              "  </tbody>\n",
              "</table>\n",
              "</div>\n",
              "      <button class=\"colab-df-convert\" onclick=\"convertToInteractive('df-06a42cdf-b4eb-45d2-8df4-22075c6fe4bb')\"\n",
              "              title=\"Convert this dataframe to an interactive table.\"\n",
              "              style=\"display:none;\">\n",
              "        \n",
              "  <svg xmlns=\"http://www.w3.org/2000/svg\" height=\"24px\"viewBox=\"0 0 24 24\"\n",
              "       width=\"24px\">\n",
              "    <path d=\"M0 0h24v24H0V0z\" fill=\"none\"/>\n",
              "    <path d=\"M18.56 5.44l.94 2.06.94-2.06 2.06-.94-2.06-.94-.94-2.06-.94 2.06-2.06.94zm-11 1L8.5 8.5l.94-2.06 2.06-.94-2.06-.94L8.5 2.5l-.94 2.06-2.06.94zm10 10l.94 2.06.94-2.06 2.06-.94-2.06-.94-.94-2.06-.94 2.06-2.06.94z\"/><path d=\"M17.41 7.96l-1.37-1.37c-.4-.4-.92-.59-1.43-.59-.52 0-1.04.2-1.43.59L10.3 9.45l-7.72 7.72c-.78.78-.78 2.05 0 2.83L4 21.41c.39.39.9.59 1.41.59.51 0 1.02-.2 1.41-.59l7.78-7.78 2.81-2.81c.8-.78.8-2.07 0-2.86zM5.41 20L4 18.59l7.72-7.72 1.47 1.35L5.41 20z\"/>\n",
              "  </svg>\n",
              "      </button>\n",
              "      \n",
              "  <style>\n",
              "    .colab-df-container {\n",
              "      display:flex;\n",
              "      flex-wrap:wrap;\n",
              "      gap: 12px;\n",
              "    }\n",
              "\n",
              "    .colab-df-convert {\n",
              "      background-color: #E8F0FE;\n",
              "      border: none;\n",
              "      border-radius: 50%;\n",
              "      cursor: pointer;\n",
              "      display: none;\n",
              "      fill: #1967D2;\n",
              "      height: 32px;\n",
              "      padding: 0 0 0 0;\n",
              "      width: 32px;\n",
              "    }\n",
              "\n",
              "    .colab-df-convert:hover {\n",
              "      background-color: #E2EBFA;\n",
              "      box-shadow: 0px 1px 2px rgba(60, 64, 67, 0.3), 0px 1px 3px 1px rgba(60, 64, 67, 0.15);\n",
              "      fill: #174EA6;\n",
              "    }\n",
              "\n",
              "    [theme=dark] .colab-df-convert {\n",
              "      background-color: #3B4455;\n",
              "      fill: #D2E3FC;\n",
              "    }\n",
              "\n",
              "    [theme=dark] .colab-df-convert:hover {\n",
              "      background-color: #434B5C;\n",
              "      box-shadow: 0px 1px 3px 1px rgba(0, 0, 0, 0.15);\n",
              "      filter: drop-shadow(0px 1px 2px rgba(0, 0, 0, 0.3));\n",
              "      fill: #FFFFFF;\n",
              "    }\n",
              "  </style>\n",
              "\n",
              "      <script>\n",
              "        const buttonEl =\n",
              "          document.querySelector('#df-06a42cdf-b4eb-45d2-8df4-22075c6fe4bb button.colab-df-convert');\n",
              "        buttonEl.style.display =\n",
              "          google.colab.kernel.accessAllowed ? 'block' : 'none';\n",
              "\n",
              "        async function convertToInteractive(key) {\n",
              "          const element = document.querySelector('#df-06a42cdf-b4eb-45d2-8df4-22075c6fe4bb');\n",
              "          const dataTable =\n",
              "            await google.colab.kernel.invokeFunction('convertToInteractive',\n",
              "                                                     [key], {});\n",
              "          if (!dataTable) return;\n",
              "\n",
              "          const docLinkHtml = 'Like what you see? Visit the ' +\n",
              "            '<a target=\"_blank\" href=https://colab.research.google.com/notebooks/data_table.ipynb>data table notebook</a>'\n",
              "            + ' to learn more about interactive tables.';\n",
              "          element.innerHTML = '';\n",
              "          dataTable['output_type'] = 'display_data';\n",
              "          await google.colab.output.renderOutput(dataTable, element);\n",
              "          const docLink = document.createElement('div');\n",
              "          docLink.innerHTML = docLinkHtml;\n",
              "          element.appendChild(docLink);\n",
              "        }\n",
              "      </script>\n",
              "    </div>\n",
              "  </div>\n",
              "  "
            ]
          },
          "metadata": {},
          "execution_count": 4
        }
      ]
    },
    {
      "cell_type": "code",
      "source": [
        "train_df.info()"
      ],
      "metadata": {
        "colab": {
          "base_uri": "https://localhost:8080/"
        },
        "id": "h85cJcWL8IBK",
        "outputId": "53022d3f-ca5c-4543-ee34-6d96d618cf30"
      },
      "execution_count": null,
      "outputs": [
        {
          "output_type": "stream",
          "name": "stdout",
          "text": [
            "<class 'pandas.core.frame.DataFrame'>\n",
            "RangeIndex: 8693 entries, 0 to 8692\n",
            "Data columns (total 11 columns):\n",
            " #   Column               Non-Null Count  Dtype  \n",
            "---  ------               --------------  -----  \n",
            " 0   CryoSleep            8693 non-null   int64  \n",
            " 1   Age                  8693 non-null   float64\n",
            " 2   VIP                  8693 non-null   int64  \n",
            " 3   RoomService          8693 non-null   float64\n",
            " 4   FoodCourt            8693 non-null   float64\n",
            " 5   ShoppingMall         8693 non-null   float64\n",
            " 6   Spa                  8693 non-null   float64\n",
            " 7   VRDeck               8693 non-null   float64\n",
            " 8   encoded_HomePlanet   8693 non-null   int64  \n",
            " 9   encoded_Destination  8693 non-null   int64  \n",
            " 10  encoded_Transported  8693 non-null   int64  \n",
            "dtypes: float64(6), int64(5)\n",
            "memory usage: 747.2 KB\n"
          ]
        }
      ]
    },
    {
      "cell_type": "code",
      "source": [
        "Y = train_df['encoded_Transported'].to_numpy()\n",
        "X = train_df.drop('encoded_Transported', axis = 1)"
      ],
      "metadata": {
        "id": "y9I4Zu5wbM-g"
      },
      "execution_count": null,
      "outputs": []
    },
    {
      "cell_type": "code",
      "source": [
        "from sklearn.model_selection import train_test_split\n",
        "X_train, X_val, y_train, y_val = train_test_split(X, Y, test_size=0.3, random_state=42)"
      ],
      "metadata": {
        "id": "-rYqPVNrbOQN"
      },
      "execution_count": null,
      "outputs": []
    },
    {
      "cell_type": "code",
      "source": [
        "X_train.head()"
      ],
      "metadata": {
        "colab": {
          "base_uri": "https://localhost:8080/",
          "height": 206
        },
        "id": "In3TG1vxszBU",
        "outputId": "a29ba619-0c19-4e72-dc14-63d67449b75e"
      },
      "execution_count": null,
      "outputs": [
        {
          "output_type": "execute_result",
          "data": {
            "text/plain": [
              "      CryoSleep   Age  VIP  RoomService  FoodCourt  ShoppingMall       Spa  \\\n",
              "3032          0  43.0    0     0.000000   4.830108      0.000000  0.379329   \n",
              "7757          1  23.0    0     0.000000   0.000000      0.000000  0.000000   \n",
              "1795          0  46.0    0     0.055839   2.186965      0.000000  0.022313   \n",
              "1702          0  33.0    0     0.000000   2.559286      0.034054  0.008925   \n",
              "6634          0  24.0    0     0.000000   0.194546      2.630683  0.000000   \n",
              "\n",
              "        VRDeck  encoded_HomePlanet  encoded_Destination  \n",
              "3032  0.621556                   1                    2  \n",
              "7757  0.000000                   1                    2  \n",
              "1795  0.372933                   0                    2  \n",
              "1702  0.124311                   0                    2  \n",
              "6634  0.169892                   0                    0  "
            ],
            "text/html": [
              "\n",
              "  <div id=\"df-05c62666-d380-42cf-8505-ef5c82afdea7\">\n",
              "    <div class=\"colab-df-container\">\n",
              "      <div>\n",
              "<style scoped>\n",
              "    .dataframe tbody tr th:only-of-type {\n",
              "        vertical-align: middle;\n",
              "    }\n",
              "\n",
              "    .dataframe tbody tr th {\n",
              "        vertical-align: top;\n",
              "    }\n",
              "\n",
              "    .dataframe thead th {\n",
              "        text-align: right;\n",
              "    }\n",
              "</style>\n",
              "<table border=\"1\" class=\"dataframe\">\n",
              "  <thead>\n",
              "    <tr style=\"text-align: right;\">\n",
              "      <th></th>\n",
              "      <th>CryoSleep</th>\n",
              "      <th>Age</th>\n",
              "      <th>VIP</th>\n",
              "      <th>RoomService</th>\n",
              "      <th>FoodCourt</th>\n",
              "      <th>ShoppingMall</th>\n",
              "      <th>Spa</th>\n",
              "      <th>VRDeck</th>\n",
              "      <th>encoded_HomePlanet</th>\n",
              "      <th>encoded_Destination</th>\n",
              "    </tr>\n",
              "  </thead>\n",
              "  <tbody>\n",
              "    <tr>\n",
              "      <th>3032</th>\n",
              "      <td>0</td>\n",
              "      <td>43.0</td>\n",
              "      <td>0</td>\n",
              "      <td>0.000000</td>\n",
              "      <td>4.830108</td>\n",
              "      <td>0.000000</td>\n",
              "      <td>0.379329</td>\n",
              "      <td>0.621556</td>\n",
              "      <td>1</td>\n",
              "      <td>2</td>\n",
              "    </tr>\n",
              "    <tr>\n",
              "      <th>7757</th>\n",
              "      <td>1</td>\n",
              "      <td>23.0</td>\n",
              "      <td>0</td>\n",
              "      <td>0.000000</td>\n",
              "      <td>0.000000</td>\n",
              "      <td>0.000000</td>\n",
              "      <td>0.000000</td>\n",
              "      <td>0.000000</td>\n",
              "      <td>1</td>\n",
              "      <td>2</td>\n",
              "    </tr>\n",
              "    <tr>\n",
              "      <th>1795</th>\n",
              "      <td>0</td>\n",
              "      <td>46.0</td>\n",
              "      <td>0</td>\n",
              "      <td>0.055839</td>\n",
              "      <td>2.186965</td>\n",
              "      <td>0.000000</td>\n",
              "      <td>0.022313</td>\n",
              "      <td>0.372933</td>\n",
              "      <td>0</td>\n",
              "      <td>2</td>\n",
              "    </tr>\n",
              "    <tr>\n",
              "      <th>1702</th>\n",
              "      <td>0</td>\n",
              "      <td>33.0</td>\n",
              "      <td>0</td>\n",
              "      <td>0.000000</td>\n",
              "      <td>2.559286</td>\n",
              "      <td>0.034054</td>\n",
              "      <td>0.008925</td>\n",
              "      <td>0.124311</td>\n",
              "      <td>0</td>\n",
              "      <td>2</td>\n",
              "    </tr>\n",
              "    <tr>\n",
              "      <th>6634</th>\n",
              "      <td>0</td>\n",
              "      <td>24.0</td>\n",
              "      <td>0</td>\n",
              "      <td>0.000000</td>\n",
              "      <td>0.194546</td>\n",
              "      <td>2.630683</td>\n",
              "      <td>0.000000</td>\n",
              "      <td>0.169892</td>\n",
              "      <td>0</td>\n",
              "      <td>0</td>\n",
              "    </tr>\n",
              "  </tbody>\n",
              "</table>\n",
              "</div>\n",
              "      <button class=\"colab-df-convert\" onclick=\"convertToInteractive('df-05c62666-d380-42cf-8505-ef5c82afdea7')\"\n",
              "              title=\"Convert this dataframe to an interactive table.\"\n",
              "              style=\"display:none;\">\n",
              "        \n",
              "  <svg xmlns=\"http://www.w3.org/2000/svg\" height=\"24px\"viewBox=\"0 0 24 24\"\n",
              "       width=\"24px\">\n",
              "    <path d=\"M0 0h24v24H0V0z\" fill=\"none\"/>\n",
              "    <path d=\"M18.56 5.44l.94 2.06.94-2.06 2.06-.94-2.06-.94-.94-2.06-.94 2.06-2.06.94zm-11 1L8.5 8.5l.94-2.06 2.06-.94-2.06-.94L8.5 2.5l-.94 2.06-2.06.94zm10 10l.94 2.06.94-2.06 2.06-.94-2.06-.94-.94-2.06-.94 2.06-2.06.94z\"/><path d=\"M17.41 7.96l-1.37-1.37c-.4-.4-.92-.59-1.43-.59-.52 0-1.04.2-1.43.59L10.3 9.45l-7.72 7.72c-.78.78-.78 2.05 0 2.83L4 21.41c.39.39.9.59 1.41.59.51 0 1.02-.2 1.41-.59l7.78-7.78 2.81-2.81c.8-.78.8-2.07 0-2.86zM5.41 20L4 18.59l7.72-7.72 1.47 1.35L5.41 20z\"/>\n",
              "  </svg>\n",
              "      </button>\n",
              "      \n",
              "  <style>\n",
              "    .colab-df-container {\n",
              "      display:flex;\n",
              "      flex-wrap:wrap;\n",
              "      gap: 12px;\n",
              "    }\n",
              "\n",
              "    .colab-df-convert {\n",
              "      background-color: #E8F0FE;\n",
              "      border: none;\n",
              "      border-radius: 50%;\n",
              "      cursor: pointer;\n",
              "      display: none;\n",
              "      fill: #1967D2;\n",
              "      height: 32px;\n",
              "      padding: 0 0 0 0;\n",
              "      width: 32px;\n",
              "    }\n",
              "\n",
              "    .colab-df-convert:hover {\n",
              "      background-color: #E2EBFA;\n",
              "      box-shadow: 0px 1px 2px rgba(60, 64, 67, 0.3), 0px 1px 3px 1px rgba(60, 64, 67, 0.15);\n",
              "      fill: #174EA6;\n",
              "    }\n",
              "\n",
              "    [theme=dark] .colab-df-convert {\n",
              "      background-color: #3B4455;\n",
              "      fill: #D2E3FC;\n",
              "    }\n",
              "\n",
              "    [theme=dark] .colab-df-convert:hover {\n",
              "      background-color: #434B5C;\n",
              "      box-shadow: 0px 1px 3px 1px rgba(0, 0, 0, 0.15);\n",
              "      filter: drop-shadow(0px 1px 2px rgba(0, 0, 0, 0.3));\n",
              "      fill: #FFFFFF;\n",
              "    }\n",
              "  </style>\n",
              "\n",
              "      <script>\n",
              "        const buttonEl =\n",
              "          document.querySelector('#df-05c62666-d380-42cf-8505-ef5c82afdea7 button.colab-df-convert');\n",
              "        buttonEl.style.display =\n",
              "          google.colab.kernel.accessAllowed ? 'block' : 'none';\n",
              "\n",
              "        async function convertToInteractive(key) {\n",
              "          const element = document.querySelector('#df-05c62666-d380-42cf-8505-ef5c82afdea7');\n",
              "          const dataTable =\n",
              "            await google.colab.kernel.invokeFunction('convertToInteractive',\n",
              "                                                     [key], {});\n",
              "          if (!dataTable) return;\n",
              "\n",
              "          const docLinkHtml = 'Like what you see? Visit the ' +\n",
              "            '<a target=\"_blank\" href=https://colab.research.google.com/notebooks/data_table.ipynb>data table notebook</a>'\n",
              "            + ' to learn more about interactive tables.';\n",
              "          element.innerHTML = '';\n",
              "          dataTable['output_type'] = 'display_data';\n",
              "          await google.colab.output.renderOutput(dataTable, element);\n",
              "          const docLink = document.createElement('div');\n",
              "          docLink.innerHTML = docLinkHtml;\n",
              "          element.appendChild(docLink);\n",
              "        }\n",
              "      </script>\n",
              "    </div>\n",
              "  </div>\n",
              "  "
            ]
          },
          "metadata": {},
          "execution_count": 8
        }
      ]
    },
    {
      "cell_type": "code",
      "source": [
        "X_train = X_train.to_numpy()\n",
        "X_val = X_val.to_numpy() "
      ],
      "metadata": {
        "id": "w20Ntq-qOZ8f"
      },
      "execution_count": null,
      "outputs": []
    },
    {
      "cell_type": "code",
      "source": [
        "X_train[0]"
      ],
      "metadata": {
        "colab": {
          "base_uri": "https://localhost:8080/"
        },
        "id": "vPBaJjzaObZR",
        "outputId": "4777e0cc-fa28-4e58-e6f6-d0953f3e408d"
      },
      "execution_count": null,
      "outputs": [
        {
          "output_type": "execute_result",
          "data": {
            "text/plain": [
              "array([ 0.        , 43.        ,  0.        ,  0.        ,  4.83010767,\n",
              "        0.        ,  0.37932881,  0.62155555,  1.        ,  2.        ])"
            ]
          },
          "metadata": {},
          "execution_count": 10
        }
      ]
    },
    {
      "cell_type": "code",
      "source": [
        "y_train"
      ],
      "metadata": {
        "colab": {
          "base_uri": "https://localhost:8080/"
        },
        "id": "uGMrzGBntthP",
        "outputId": "d4e90039-dd92-4d3c-e66f-8ed452136b26"
      },
      "execution_count": null,
      "outputs": [
        {
          "output_type": "execute_result",
          "data": {
            "text/plain": [
              "array([1, 1, 0, ..., 0, 0, 0])"
            ]
          },
          "metadata": {},
          "execution_count": 11
        }
      ]
    },
    {
      "cell_type": "code",
      "source": [
        "from sklearn.base import BaseEstimator, TransformerMixin, ClassifierMixin\n",
        "from sklearn.pipeline import make_pipeline\n",
        "from sklearn.linear_model import LogisticRegression\n",
        "from numpy.linalg import norm\n",
        "from sklearn.preprocessing import StandardScaler\n",
        "from sklearn.metrics import accuracy_score\n",
        "from sklearn.neighbors import KNeighborsClassifier\n",
        "from sklearn.svm import SVC\n",
        "from sklearn.naive_bayes import GaussianNB\n",
        "from sklearn.svm import LinearSVC"
      ],
      "metadata": {
        "id": "qjX_jYGPbOvY"
      },
      "execution_count": null,
      "outputs": []
    },
    {
      "cell_type": "markdown",
      "source": [
        "## KNN"
      ],
      "metadata": {
        "id": "yNTHOLvPnUJK"
      }
    },
    {
      "cell_type": "code",
      "source": [
        "from sklearn.metrics import euclidean_distances\n",
        "class KNNClassifier(ClassifierMixin, BaseEstimator):\n",
        "    def __init__(self, nb=5):\n",
        "        self.nb = nb\n",
        "\n",
        "    def fit(self, X, y):\n",
        "        self.X_ = X\n",
        "        self.y_ = y\n",
        "        self.classes_ = np.unique(y)\n",
        "        return self\n",
        "\n",
        "    def predict(self, X):\n",
        "        y = np.ndarray((X.shape[0],))\n",
        "        for i, elem in enumerate(X):\n",
        "            distances = euclidean_distances([elem], self.X_)[0]\n",
        "            neighbors = np.argpartition(distances, kth = self.nb- 1)\n",
        "            k_neighbors = neighbors[:self.nb]\n",
        "            labels, cnts = np.unique(self.y_[k_neighbors], return_counts = True)\n",
        "            y[i] = labels[cnts.argmax()]\n",
        "        return y\n"
      ],
      "metadata": {
        "id": "viVwhhtgNG5U"
      },
      "execution_count": null,
      "outputs": []
    },
    {
      "cell_type": "code",
      "source": [
        "clf = KNeighborsClassifier(n_neighbors=5)\n",
        "clf.fit(X_train, y_train)\n",
        "y_pred = clf.predict(X_val)\n",
        "print(\"Accuracy:\", accuracy_score(y_val, y_pred))"
      ],
      "metadata": {
        "colab": {
          "base_uri": "https://localhost:8080/"
        },
        "id": "kIYzUa56Ep64",
        "outputId": "0f7de296-b971-45ae-aedd-fab88f5c2bc0"
      },
      "execution_count": null,
      "outputs": [
        {
          "output_type": "stream",
          "name": "stdout",
          "text": [
            "Accuracy: 0.7611196319018405\n"
          ]
        }
      ]
    },
    {
      "cell_type": "code",
      "source": [
        "my_clf = KNNClassifier(nb=5)\n",
        "my_clf.fit(X_train, y_train)\n",
        "y_pred = my_clf.predict(X_val)\n",
        "print(\"Accuracy:\", accuracy_score(y_val, y_pred))"
      ],
      "metadata": {
        "colab": {
          "base_uri": "https://localhost:8080/"
        },
        "id": "20_R1O66Ep-V",
        "outputId": "1c759add-0b75-4ef2-a056-3448de1207f4"
      },
      "execution_count": null,
      "outputs": [
        {
          "output_type": "stream",
          "name": "stdout",
          "text": [
            "Accuracy: 0.763420245398773\n"
          ]
        }
      ]
    },
    {
      "cell_type": "markdown",
      "source": [
        "## Logistic Regression"
      ],
      "metadata": {
        "id": "eJ0ksjZd-3u7"
      }
    },
    {
      "cell_type": "code",
      "source": [
        "class LogisticRegressionClassifier(BaseEstimator, ClassifierMixin):\n",
        "    def __init__(self, lr=0.05, max_iters=2500, fit_intercept=True):\n",
        "        self.fit_intercept = fit_intercept        \n",
        "        self.lr = lr        \n",
        "        self.max_iters = max_iters\n",
        "             \n",
        "    def fit( self, X, Y ):\n",
        "        if self.fit_intercept:\n",
        "            X = np.hstack((X, np.ones((X.shape[0], 1))))        \n",
        "        self.m, self.n = X.shape        \n",
        "        # weight initialization        \n",
        "        self.W = np.zeros(self.n)              \n",
        "        self.X = X        \n",
        "        self.Y = Y\n",
        "        # gradient descent learning\n",
        "        for i in range(self.max_iters):            \n",
        "            self.update_weights()            \n",
        "        return self\n",
        "      \n",
        "    # Helper function to update weights in gradient descent\n",
        "    def update_weights(self):\n",
        "        z = self.X.dot(self.W)\n",
        "        \n",
        "        # sigmoid        \n",
        "        a = 1 / (1 + np.exp(-z))\n",
        "        \n",
        "        # calculate gradients        \n",
        "        grad = (a - self.Y.T)        \n",
        "        grad = np.reshape(grad, self.m)        \n",
        "        dW = np.dot(self.X.T, grad) / self.m         \n",
        "        db = np.sum(grad) / self.m \n",
        "        \n",
        "        # update weights    \n",
        "        self.W = self.W - self.lr * dW    \n",
        "          \n",
        "        return self\n",
        "      \n",
        "    def predict(self, X) :\n",
        "        if self.fit_intercept:\n",
        "            X = np.hstack((X, np.ones((X.shape[0], 1))))\n",
        "        z = X.dot(self.W)\n",
        "        z = 1 / ( 1 + np.exp(-z))        \n",
        "        y = np.where(z > 0.5, 1, 0)        \n",
        "        return y"
      ],
      "metadata": {
        "id": "GJE5lAX7tCcU"
      },
      "execution_count": null,
      "outputs": []
    },
    {
      "cell_type": "code",
      "source": [
        "clf = LogisticRegression(max_iter=1000)\n",
        "clf.fit(X_train, y_train)\n",
        "y_pred = clf.predict(X_val)\n",
        "print(\"Accuracy:\", accuracy_score(y_val, y_pred))"
      ],
      "metadata": {
        "colab": {
          "base_uri": "https://localhost:8080/"
        },
        "id": "CeLXZTN77gMH",
        "outputId": "3fabbef0-bb08-4c09-b29b-4e2b692cc915"
      },
      "execution_count": null,
      "outputs": [
        {
          "output_type": "stream",
          "name": "stdout",
          "text": [
            "Accuracy: 0.7733895705521472\n"
          ]
        }
      ]
    },
    {
      "cell_type": "code",
      "source": [
        "my_clf = LogisticRegressionClassifier()\n",
        "my_clf.fit(X_train, y_train)\n",
        "y_pred = my_clf.predict(X_val)\n",
        "print(\"Accuracy:\", accuracy_score(y_val, y_pred))"
      ],
      "metadata": {
        "colab": {
          "base_uri": "https://localhost:8080/"
        },
        "id": "ZOr-_BBq_ZhO",
        "outputId": "bcc98c6f-0d32-4bea-f12e-d9211b167c15"
      },
      "execution_count": null,
      "outputs": [
        {
          "output_type": "stream",
          "name": "stdout",
          "text": [
            "Accuracy: 0.6848159509202454\n"
          ]
        }
      ]
    },
    {
      "cell_type": "markdown",
      "source": [
        "## SVM"
      ],
      "metadata": {
        "id": "gDjGmhJrv19B"
      }
    },
    {
      "cell_type": "code",
      "source": [
        "class SVMClassifier(ClassifierMixin, BaseEstimator):\n",
        "    def __init__(self, epoches = 200, lr = 0.005, alpha = 0.01, fit_intercept=True):\n",
        "        self.epoches = epoches\n",
        "        self.lr =  lr\n",
        "        self.alpha = alpha\n",
        "        self.fit_intercept = fit_intercept\n",
        "\n",
        "    \n",
        "    def update_weights(self):\n",
        "        z = np.dot(self.X, self.W)\n",
        "        dz = self.alpha * self.W\n",
        "        for i, z_i in enumerate(z):\n",
        "            if z_i * self.Y[i] < 1:\n",
        "                dz -= self.X[i] * self.Y[i]\n",
        "        self.W -= self.lr * dz\n",
        "\n",
        "    def fit(self, X, y):\n",
        "        #bias\n",
        "        if self.fit_intercept:\n",
        "            X = np.hstack((X, np.ones((X.shape[0], 1))))\n",
        "        self.m, self.n = X.shape        \n",
        "        \n",
        "        # weight initialization              \n",
        "        self.X = X\n",
        "        self.Y = y\n",
        "        self.W = np.zeros(self.n)\n",
        "\n",
        "        for _ in range(self.epoches):\n",
        "            self.update_weights() \n",
        "        return self\n",
        "\n",
        "    def predict(self, X):\n",
        "        #bias\n",
        "        if self.fit_intercept:\n",
        "            X = np.hstack((X, np.ones((X.shape[0], 1))))\n",
        "        return np.sign(np.dot(X, self.W))\n",
        "    "
      ],
      "metadata": {
        "id": "qho4kEUvyTrQ"
      },
      "execution_count": null,
      "outputs": []
    },
    {
      "cell_type": "code",
      "source": [
        "clf = SVC(kernel=\"linear\")\n",
        "clf.fit(X_train, y_train)\n",
        "y_pred = clf.predict(X_val)\n",
        "print(\"Accuracy:\", accuracy_score(y_val, y_pred))"
      ],
      "metadata": {
        "colab": {
          "base_uri": "https://localhost:8080/"
        },
        "id": "L296CaQn6VbG",
        "outputId": "4da0d6c8-00f7-4dfc-dc33-80808d82efd0"
      },
      "execution_count": null,
      "outputs": [
        {
          "output_type": "stream",
          "name": "stdout",
          "text": [
            "Accuracy: 0.7699386503067485\n"
          ]
        }
      ]
    },
    {
      "cell_type": "code",
      "source": [
        "clf = LinearSVC(random_state=0, tol=1e-05)\n",
        "clf.fit(X_train, y_train)\n",
        "y_pred = clf.predict(X_val)\n",
        "print(\"Accuracy:\", accuracy_score(y_val, y_pred))"
      ],
      "metadata": {
        "colab": {
          "base_uri": "https://localhost:8080/"
        },
        "id": "WvYUAa9GWb05",
        "outputId": "fbc7d8ed-4340-42ab-81f4-7265e675e867"
      },
      "execution_count": null,
      "outputs": [
        {
          "output_type": "stream",
          "name": "stdout",
          "text": [
            "Accuracy: 0.6779141104294478\n"
          ]
        },
        {
          "output_type": "stream",
          "name": "stderr",
          "text": [
            "/usr/local/lib/python3.7/dist-packages/sklearn/svm/_base.py:1208: ConvergenceWarning: Liblinear failed to converge, increase the number of iterations.\n",
            "  ConvergenceWarning,\n"
          ]
        }
      ]
    },
    {
      "cell_type": "code",
      "source": [
        "my_clf = SVMClassifier()\n",
        "my_clf.fit(X_train, np.where(y_train > 0, 1, -1))\n",
        "y_pred = my_clf.predict(X_val)\n",
        "y_pred = np.where(y_pred > 0, 1, 0)\n",
        "print(\"Accuracy:\", accuracy_score(y_val, y_pred))"
      ],
      "metadata": {
        "colab": {
          "base_uri": "https://localhost:8080/"
        },
        "id": "I_ct5y_31W8E",
        "outputId": "9ab0d35f-55fb-43f3-f50d-8df2ba512b7a"
      },
      "execution_count": null,
      "outputs": [
        {
          "output_type": "stream",
          "name": "stdout",
          "text": [
            "Accuracy: 0.6123466257668712\n"
          ]
        }
      ]
    },
    {
      "cell_type": "markdown",
      "source": [
        "## NaiveBayes"
      ],
      "metadata": {
        "id": "4u-opMSo_Lm2"
      }
    },
    {
      "cell_type": "code",
      "source": [
        "import math\n",
        "class NaiveBayesClassifier(ClassifierMixin, BaseEstimator):\n",
        "    def __init__(self):\n",
        "       pass\n",
        "    \n",
        "    def fit(self, X, y):\n",
        "        self.X = X\n",
        "        self.y = y\n",
        "        labels, counts = np.unique(self.y, return_counts = True)\n",
        "        self.labels = labels\n",
        "        self.freq = np.array([i / self.y.shape[0] for i in counts])\n",
        "        self.means = np.array([self.X[self.y == i].mean(axis = 0) for i in labels])\n",
        "        self.stds = np.array([self.X[self.y == i].std(axis = 0) for i in labels])\n",
        "        return self\n",
        "\n",
        "    def gaussian(self, mu, sigma, x0):\n",
        "        return np.exp(-(x0 - mu) ** 2 / (2 * sigma)) / np.sqrt(2.0 * math.pi * sigma)\n",
        "    \n",
        "    def predict(self, X):        \n",
        "        res = np.zeros(X.shape[0])\n",
        "        for i, x_i  in enumerate(X):\n",
        "            freq = np.array(self.freq)\n",
        "            for j, label_j in enumerate(self.labels):\n",
        "                p_x_cond_y = np.array([self.gaussian(self.means[j][k], self.stds[j][k], x_i[k]) for k in range(X.shape[1])])\n",
        "                freq[j] *= np.prod(p_x_cond_y)\n",
        "            res[i] = np.argmax(freq)\n",
        "        return res"
      ],
      "metadata": {
        "id": "6oRs9W9psi3c"
      },
      "execution_count": null,
      "outputs": []
    },
    {
      "cell_type": "code",
      "source": [
        "clf = GaussianNB()\n",
        "clf.fit(X_train, y_train)\n",
        "y_pred = clf.predict(X_val)\n",
        "print(\"Accuracy:\", accuracy_score(y_val, y_pred))"
      ],
      "metadata": {
        "colab": {
          "base_uri": "https://localhost:8080/"
        },
        "id": "SBBCI0R1HH9D",
        "outputId": "8f4c7933-843d-4249-baf0-613a2c10bbce"
      },
      "execution_count": null,
      "outputs": [
        {
          "output_type": "stream",
          "name": "stdout",
          "text": [
            "Accuracy: 0.6932515337423313\n"
          ]
        }
      ]
    },
    {
      "cell_type": "code",
      "source": [
        "my_clf = NaiveBayesClassifier()\n",
        "my_clf.fit(X_train, y_train)\n",
        "y_pred = my_clf.predict(X_val)\n",
        "print(\"Accuracy:\", accuracy_score(y_val, y_pred))"
      ],
      "metadata": {
        "colab": {
          "base_uri": "https://localhost:8080/"
        },
        "id": "mTb6URRwCy0g",
        "outputId": "28ace818-493c-4b69-f773-47314ecac0e2"
      },
      "execution_count": null,
      "outputs": [
        {
          "output_type": "stream",
          "name": "stdout",
          "text": [
            "Accuracy: 0.7312116564417178\n"
          ]
        }
      ]
    },
    {
      "cell_type": "markdown",
      "source": [
        "##  Подбор параметов"
      ],
      "metadata": {
        "id": "ZZTteleLHesB"
      }
    },
    {
      "cell_type": "markdown",
      "source": [
        "Будем использовать Pipeline и GridSearchCV для поиска оптимальных параметров."
      ],
      "metadata": {
        "id": "3mQjLjrgHqDp"
      }
    },
    {
      "cell_type": "code",
      "source": [
        "from sklearn.pipeline import Pipeline\n",
        "from sklearn.model_selection import GridSearchCV\n",
        "import matplotlib.pyplot as plt\n",
        "import pickle"
      ],
      "metadata": {
        "id": "YMhvNAbDg00X"
      },
      "execution_count": null,
      "outputs": []
    },
    {
      "cell_type": "code",
      "source": [
        "from sklearn.metrics import confusion_matrix, precision_score, recall_score, RocCurveDisplay, ConfusionMatrixDisplay\n",
        "\n",
        "def scores(y_pred1, y_pred2, y):\n",
        "    print(\"Accuracy:\", accuracy_score(y, y_pred1))\n",
        "    print(\"Accuracy sklearn model:\", accuracy_score(y, y_pred2))\n",
        "    print(\"Recall:\", recall_score(y, y_pred1))\n",
        "    print(\"Recall sklearn model:\", accuracy_score(y, y_pred2))\n",
        "    print(\"Precision:\", precision_score(y, y_pred2))\n",
        "    print(\"Precision sklearn model:\", accuracy_score(y, y_pred2))\n",
        "    figure = plt.figure(figsize = (20, 5))\n",
        "    matr1 = confusion_matrix(y, y_pred1)\n",
        "    matr2 = confusion_matrix(y, y_pred2)\n",
        "    ax1 = plt.subplot(1, 2, 1)\n",
        "    ax2 = plt.subplot(1, 2, 2)\n",
        "    ax1.set_title(\"My implementation\")\n",
        "    ax2.set_title(\"Scikit-learn implementation\")\n",
        "    ConfusionMatrixDisplay(matr1).plot(ax = ax1)\n",
        "    ConfusionMatrixDisplay(matr2).plot(ax = ax2)\n",
        "    plt.show()"
      ],
      "metadata": {
        "id": "9lgaOnTugyv9"
      },
      "execution_count": null,
      "outputs": []
    },
    {
      "cell_type": "markdown",
      "source": [
        "### KNN"
      ],
      "metadata": {
        "id": "UFTBc65HbW9z"
      }
    },
    {
      "cell_type": "code",
      "source": [
        "clf = GridSearchCV(Pipeline([(\"KNN\", KNNClassifier(nb=5))]),\n",
        "                    {\"KNN__nb\" : [7, 5, 3, 1]})\n",
        "\n",
        "clf.fit(X_train, y_train)\n",
        "y_pred1 = clf.best_estimator_.predict(X_val)\n",
        "print(\"Лучшие гиперпараметры модели:\", clf.best_params_)\n",
        "print(\"Лучший счёт модели:\", clf.best_score_)"
      ],
      "metadata": {
        "colab": {
          "base_uri": "https://localhost:8080/"
        },
        "id": "FzdMVxwgT0AC",
        "outputId": "a8bd88c7-6be3-41b1-93d4-fcdeccd9de6d"
      },
      "execution_count": null,
      "outputs": [
        {
          "output_type": "stream",
          "name": "stdout",
          "text": [
            "Лучшие гиперпараметры модели: {'KNN__nb': 7}\n",
            "Лучший счёт модели: 0.7682826622843056\n"
          ]
        }
      ]
    },
    {
      "cell_type": "code",
      "source": [
        "model = KNeighborsClassifier(n_neighbors=5)\n",
        "model.fit(X_train, y_train)\n",
        "y_pred2 = model.predict(X_val)"
      ],
      "metadata": {
        "id": "Gj7zNj7ibIJE"
      },
      "execution_count": null,
      "outputs": []
    },
    {
      "cell_type": "code",
      "source": [
        "scores(y_pred1, y_pred2, y_val)"
      ],
      "metadata": {
        "colab": {
          "base_uri": "https://localhost:8080/",
          "height": 454
        },
        "id": "gXEp3fGdT0Hm",
        "outputId": "1b70e082-ef8d-4b52-ad4b-ffdfa91e762e"
      },
      "execution_count": null,
      "outputs": [
        {
          "output_type": "stream",
          "name": "stdout",
          "text": [
            "Accuracy: 0.7630368098159509\n",
            "Accuracy sklearn model: 0.7611196319018405\n",
            "Recall: 0.7968157695223654\n",
            "Recall sklearn model: 0.7611196319018405\n",
            "Precision: 0.6712860310421286\n",
            "Precision sklearn model: 0.7611196319018405\n"
          ]
        },
        {
          "output_type": "display_data",
          "data": {
            "text/plain": [
              "<Figure size 1440x360 with 4 Axes>"
            ],
            "image/png": "[encoded data removed]"
          },
          "metadata": {
            "needs_background": "light"
          }
        }
      ]
    },
    {
      "cell_type": "code",
      "source": [
        "with open('KNN.pickle', 'wb') as f:\n",
        "    pickle.dump(clf.best_params_, f)"
      ],
      "metadata": {
        "id": "ib0pa6BCybxL"
      },
      "execution_count": null,
      "outputs": []
    },
    {
      "cell_type": "markdown",
      "source": [
        "### Logistic Regression"
      ],
      "metadata": {
        "id": "OjYZvQz4bekh"
      }
    },
    {
      "cell_type": "code",
      "source": [
        "clf = GridSearchCV(Pipeline([(\"LogReg\",LogisticRegressionClassifier())]),\n",
        "                    {\"LogReg__lr\" : [0.01, 0.005, 0.001],\n",
        "                     \"LogReg__max_iters\" : [100, 200, 500, 2000],\n",
        "                     \"LogReg__fit_intercept\" : [True, False]})\n",
        "\n",
        "clf.fit(X_train, y_train)\n",
        "y_pred1 = clf.best_estimator_.predict(X_val)\n",
        "print(\"Лучшие гиперпараметры модели:\", clf.best_params_)\n",
        "print(\"Лучший счёт модели:\", clf.best_score_)"
      ],
      "metadata": {
        "colab": {
          "base_uri": "https://localhost:8080/"
        },
        "id": "EevYKyA2bet9",
        "outputId": "5bf50b29-6b04-4165-af62-2a38af9a02e6"
      },
      "execution_count": null,
      "outputs": [
        {
          "output_type": "stream",
          "name": "stdout",
          "text": [
            "Лучшие гиперпараметры модели: {'LogReg__fit_intercept': True, 'LogReg__lr': 0.01, 'LogReg__max_iters': 2000}\n",
            "Лучший счёт модели: 0.790797041906327\n"
          ]
        }
      ]
    },
    {
      "cell_type": "code",
      "source": [
        "model = LogisticRegression(max_iter=2000)\n",
        "model.fit(X_train, y_train)\n",
        "y_pred2 = model.predict(X_val)"
      ],
      "metadata": {
        "id": "7z6HPfQDbkbt"
      },
      "execution_count": null,
      "outputs": []
    },
    {
      "cell_type": "code",
      "source": [
        "scores(y_pred1, y_pred2, y_val)"
      ],
      "metadata": {
        "colab": {
          "base_uri": "https://localhost:8080/",
          "height": 454
        },
        "id": "wijJpHY0bked",
        "outputId": "7e50a540-3bb5-4d55-f7fd-4aeff1193b40"
      },
      "execution_count": null,
      "outputs": [
        {
          "output_type": "stream",
          "name": "stdout",
          "text": [
            "Accuracy: 0.7829754601226994\n",
            "Accuracy sklearn model: 0.7733895705521472\n",
            "Recall: 0.8506444275966641\n",
            "Recall sklearn model: 0.7733895705521472\n",
            "Precision: 0.6712860310421286\n",
            "Precision sklearn model: 0.7733895705521472\n"
          ]
        },
        {
          "output_type": "display_data",
          "data": {
            "text/plain": [
              "<Figure size 1440x360 with 4 Axes>"
            ],
            "image/png": "[encoded data removed]"
          },
          "metadata": {
            "needs_background": "light"
          }
        }
      ]
    },
    {
      "cell_type": "code",
      "source": [
        "with open('LogisticRegression.pickle', 'wb') as f:\n",
        "    pickle.dump(clf.best_params_, f)"
      ],
      "metadata": {
        "id": "HWpDGDZiyTz0"
      },
      "execution_count": null,
      "outputs": []
    },
    {
      "cell_type": "markdown",
      "source": [
        "### SVM"
      ],
      "metadata": {
        "id": "V3GK_DDXbcUf"
      }
    },
    {
      "cell_type": "code",
      "source": [
        "clf = GridSearchCV(Pipeline([(\"SVM\", SVMClassifier())]),\n",
        "                    {\"SVM__epoches\" : [10, 50, 100],\n",
        "                     \"SVM__lr\" : [0.01, 0.05, 0.0001],\n",
        "                     \"SVM__alpha\" : [2.0, 1.0, 0.1, 0.01, 0.0]})\n",
        "\n",
        "clf.fit(X_train, np.where(y_train > 0, 1, -1))\n",
        "y_pred1 = clf.best_estimator_.predict(X_val)\n",
        "y_pred1 = np.where(y_pred1 > 0, 1, 0)\n",
        "print(\"Лучшие гиперпараметры модели:\", clf.best_params_)\n",
        "print(\"Лучший счёт модели:\", clf.best_score_)"
      ],
      "metadata": {
        "colab": {
          "base_uri": "https://localhost:8080/"
        },
        "id": "GSmzUnldKt_3",
        "outputId": "245422e6-4767-4d86-a94d-c943cf105382"
      },
      "execution_count": null,
      "outputs": [
        {
          "output_type": "stream",
          "name": "stdout",
          "text": [
            "Лучшие гиперпараметры модели: {'SVM__alpha': 1.0, 'SVM__epoches': 100, 'SVM__lr': 0.0001}\n",
            "Лучший счёт модели: 0.6133114215283484\n"
          ]
        }
      ]
    },
    {
      "cell_type": "code",
      "source": [
        "model = LinearSVC(random_state=0, tol=1e-05)\n",
        "model.fit(X_train, y_train)\n",
        "y_pred2 = model.predict(X_val)"
      ],
      "metadata": {
        "id": "QQXAi4s-VIwA",
        "colab": {
          "base_uri": "https://localhost:8080/"
        },
        "outputId": "90d5902d-3dbf-4686-d083-3827ff4cb0ff"
      },
      "execution_count": null,
      "outputs": [
        {
          "output_type": "stream",
          "name": "stderr",
          "text": [
            "/usr/local/lib/python3.7/dist-packages/sklearn/svm/_base.py:1208: ConvergenceWarning: Liblinear failed to converge, increase the number of iterations.\n",
            "  ConvergenceWarning,\n"
          ]
        }
      ]
    },
    {
      "cell_type": "code",
      "source": [
        "scores(y_pred1, y_pred2, y_val)"
      ],
      "metadata": {
        "colab": {
          "base_uri": "https://localhost:8080/",
          "height": 454
        },
        "id": "JpHI2DlcPT05",
        "outputId": "9302021c-685d-454c-f692-5c08f0cc4796"
      },
      "execution_count": null,
      "outputs": [
        {
          "output_type": "stream",
          "name": "stdout",
          "text": [
            "Accuracy: 0.6529907975460123\n",
            "Accuracy sklearn model: 0.6779141104294478\n",
            "Recall: 0.9552691432903715\n",
            "Recall sklearn model: 0.6779141104294478\n",
            "Precision: 0.6199298948422634\n",
            "Precision sklearn model: 0.6779141104294478\n"
          ]
        },
        {
          "output_type": "display_data",
          "data": {
            "text/plain": [
              "<Figure size 1440x360 with 4 Axes>"
            ],
            "image/png": "[encoded data removed]"
          },
          "metadata": {
            "needs_background": "light"
          }
        }
      ]
    },
    {
      "cell_type": "code",
      "source": [
        "class MySVM(ClassifierMixin, BaseEstimator):\n",
        "    def __init__(self, epochs=10, lr=0.1, alpha=0.1):\n",
        "        self.w = None\n",
        "        self.epochs = epochs\n",
        "        self.lr = lr\n",
        "        self.alpha = alpha  # regularization parameter\n",
        "    \n",
        "    def fit(self, X, y):\n",
        "        y = np.where(y == 1, 1, -1)\n",
        "        n, k = X.shape\n",
        "        \n",
        "        if self.w is None:\n",
        "            np.random.seed(0xDEAD)\n",
        "            # weights\n",
        "            self.w = np.random.randn(k + 1)\n",
        " \n",
        "        X = np.concatenate((np.ones((n, 1)), X), axis=1)  # add bias as feature\n",
        "        for i in range(self.epochs):\n",
        "            for j, x in enumerate(X):\n",
        "                margin = y[j] * np.dot(self.w, x)\n",
        "                if margin >= 1:\n",
        "                    self.w -= self.lr * self.alpha * self.w / self.epochs\n",
        "                else:\n",
        "                    self.w += self.lr * (y[j] * x - self.alpha * self.w / self.epochs)\n",
        "        return self\n",
        "    \n",
        "    def predict(self, X):\n",
        "        # no predict proba here\n",
        "        n, k = X.shape\n",
        "        X = np.concatenate((np.ones((n, 1)), X), axis=1)\n",
        "        y = np.ndarray((n))\n",
        "        \n",
        "        for i, elem in enumerate(X):\n",
        "            prediction = np.dot(self.w, elem)\n",
        "            if prediction > 0:\n",
        "                y[i] = 1\n",
        "            else:\n",
        "                y[i] = 0\n",
        "        return y\n",
        "    \n",
        "    \n",
        "    def _hinge_loss(self, x, y):\n",
        "        return max(0, 1 - y * np.dot(x, self.w))\n",
        "    \n",
        "    \n",
        "    def _soft_margin_loss(self, x, y):\n",
        "        return self._hinge_loss(x, y) + self.alpha * np.dot(self.w, self.w)"
      ],
      "metadata": {
        "id": "cuhIh-MXw_Dt"
      },
      "execution_count": null,
      "outputs": []
    },
    {
      "cell_type": "code",
      "source": [
        "clf = GridSearchCV(Pipeline([(\"SVM\", MySVM())]),\n",
        "                    {\"SVM__epochs\" : [10, 50, 100],\n",
        "                     \"SVM__lr\" : [0.01, 0.05, 0.0001],\n",
        "                     \"SVM__alpha\" : [2.0, 1.0, 0.1, 0.01, 0.0]})\n",
        "\n",
        "clf.fit(X_train, y_train)\n",
        "y_pred1 = clf.best_estimator_.predict(X_val)\n",
        "print(\"Лучшие гиперпараметры модели:\", clf.best_params_)\n",
        "print(\"Лучший счёт модели:\", clf.best_score_)"
      ],
      "metadata": {
        "id": "_L5-YK70xAoy"
      },
      "execution_count": null,
      "outputs": []
    },
    {
      "cell_type": "code",
      "source": [
        "model = SVC(kernel=\"linear\")\n",
        "model.fit(X_train, y_train)\n",
        "y_pred2 = model.predict(X_val)"
      ],
      "metadata": {
        "id": "S_B47RpSxIQ3"
      },
      "execution_count": null,
      "outputs": []
    },
    {
      "cell_type": "code",
      "source": [
        "scores(y_pred1, y_pred2, y_val)"
      ],
      "metadata": {
        "colab": {
          "base_uri": "https://localhost:8080/",
          "height": 454
        },
        "id": "0JSnBJhWxKpH",
        "outputId": "84efa91a-5ecf-4136-dbcc-0522e3916298"
      },
      "execution_count": null,
      "outputs": [
        {
          "output_type": "stream",
          "name": "stdout",
          "text": [
            "Accuracy: 0.786042944785276\n",
            "Accuracy sklearn model: 0.7699386503067485\n",
            "Recall: 0.844579226686884\n",
            "Recall sklearn model: 0.7699386503067485\n",
            "Precision: 0.7738004569687738\n",
            "Precision sklearn model: 0.7699386503067485\n"
          ]
        },
        {
          "output_type": "display_data",
          "data": {
            "text/plain": [
              "<Figure size 1440x360 with 4 Axes>"
            ],
            "image/png": "[encoded data removed]"
          },
          "metadata": {
            "needs_background": "light"
          }
        }
      ]
    },
    {
      "cell_type": "code",
      "source": [
        "with open('SVM.pickle', 'wb') as f:\n",
        "    pickle.dump(clf.best_params_, f)"
      ],
      "metadata": {
        "id": "hOIXFHhbxvmo"
      },
      "execution_count": null,
      "outputs": []
    },
    {
      "cell_type": "markdown",
      "source": [
        "### NaiveBayesClassifier"
      ],
      "metadata": {
        "id": "9P_72JnTxw4H"
      }
    },
    {
      "cell_type": "code",
      "source": [
        "clf = NaiveBayesClassifier()\n",
        "clf.fit(X_train, y_train)\n",
        "y_pred1 = clf.predict(X_val)"
      ],
      "metadata": {
        "id": "WLenhSasPRDh"
      },
      "execution_count": null,
      "outputs": []
    },
    {
      "cell_type": "code",
      "source": [
        "model = GaussianNB()\n",
        "model.fit(X_train, y_train)\n",
        "y_pred2 = model.predict(X_val)"
      ],
      "metadata": {
        "id": "AUBX_V-yPRTN"
      },
      "execution_count": null,
      "outputs": []
    },
    {
      "cell_type": "code",
      "source": [
        "scores(y_pred1, y_pred2, y_val)"
      ],
      "metadata": {
        "colab": {
          "base_uri": "https://localhost:8080/"
        },
        "id": "hIiB_J6bK-Z3",
        "outputId": "10e1aff8-89b5-4f4c-c169-64ecc68e18fb"
      },
      "execution_count": null,
      "outputs": [
        {
          "output_type": "stream",
          "name": "stdout",
          "text": [
            "Accuracy: 0.7312116564417178\n",
            "Accuracy sklearn model: 0.6932515337423313\n",
            "Recall: 0.9181197877179682\n",
            "Recall sklearn model: 0.6932515337423313\n",
            "Precision: 0.6712860310421286\n",
            "Precision sklearn model: 0.6932515337423313\n"
          ]
        },
        {
          "output_type": "display_data",
          "data": {
            "text/plain": [
              "<Figure size 1440x360 with 4 Axes>"
            ],
            "image/png": "[encoded data removed]"
          },
          "metadata": {
            "needs_background": "light"
          }
        }
      ]
    },
    {
      "cell_type": "markdown",
      "source": [
        "## Решающее дерево"
      ],
      "metadata": {
        "id": "by3ldyttizb2"
      }
    },
    {
      "cell_type": "markdown",
      "source": [
        "Ради интереса посмотрим, как нашу задачу решит RandomForest."
      ],
      "metadata": {
        "id": "N_PsYmOMnqVQ"
      }
    },
    {
      "cell_type": "code",
      "source": [
        "from sklearn.ensemble import RandomForestClassifier\n",
        "clf = clf = RandomForestClassifier(max_depth=4, n_estimators=1500)\n",
        "clf.fit(X_train, y_train)\n",
        "y_pred = clf.predict(X_val)\n",
        "print(\"Accuracy:\", accuracy_score(y_val, y_pred))"
      ],
      "metadata": {
        "colab": {
          "base_uri": "https://localhost:8080/"
        },
        "id": "oIPI_28ai6dw",
        "outputId": "353238aa-ad1d-4968-f74f-217d70c77134"
      },
      "execution_count": null,
      "outputs": [
        {
          "output_type": "stream",
          "name": "stdout",
          "text": [
            "Accuracy: 0.7695552147239264\n"
          ]
        }
      ]
    }
  ]
}